{
  "nbformat": 4,
  "nbformat_minor": 0,
  "metadata": {
    "colab": {
      "provenance": [],
      "collapsed_sections": [],
      "authorship_tag": "ABX9TyOKrCE24aEnVZMsvNMYQ1aD",
      "include_colab_link": true
    },
    "kernelspec": {
      "name": "python3",
      "display_name": "Python 3"
    },
    "language_info": {
      "name": "python"
    }
  },
  "cells": [
    {
      "cell_type": "markdown",
      "metadata": {
        "id": "view-in-github",
        "colab_type": "text"
      },
      "source": [
        "<a href=\"https://colab.research.google.com/github/Sasha-Kirsten/Week_4_Evaluation/blob/main/Week_4_Evaluation.ipynb\" target=\"_parent\"><img src=\"https://colab.research.google.com/assets/colab-badge.svg\" alt=\"Open In Colab\"/></a>"
      ]
    },
    {
      "cell_type": "code",
      "execution_count": 1,
      "metadata": {
        "id": "yi_FhEpiMT1O"
      },
      "outputs": [],
      "source": [
        "# Importing different libraries for different tasks that we will engage.\n",
        "import pandas as pd \n",
        "import numpy as np\n",
        "\n",
        "import matplotlib.pyplot as plt\n",
        "import seaborn as sns\n",
        "%matplotlib inline"
      ]
    },
    {
      "cell_type": "code",
      "source": [
        "!wget https://raw.githubusercontent.com/alexeygrigorev/datasets/master/AER_credit_card_data.csv"
      ],
      "metadata": {
        "colab": {
          "base_uri": "https://localhost:8080/"
        },
        "id": "6_pQHPTbMbJP",
        "outputId": "563e5527-2d7d-47ed-be13-af2367879306"
      },
      "execution_count": 2,
      "outputs": [
        {
          "output_type": "stream",
          "name": "stdout",
          "text": [
            "--2022-10-01 12:07:40--  https://raw.githubusercontent.com/alexeygrigorev/datasets/master/AER_credit_card_data.csv\n",
            "Resolving raw.githubusercontent.com (raw.githubusercontent.com)... 185.199.111.133, 185.199.109.133, 185.199.110.133, ...\n",
            "Connecting to raw.githubusercontent.com (raw.githubusercontent.com)|185.199.111.133|:443... connected.\n",
            "HTTP request sent, awaiting response... 200 OK\n",
            "Length: 73250 (72K) [text/plain]\n",
            "Saving to: ‘AER_credit_card_data.csv’\n",
            "\n",
            "\rAER_credit_card_dat   0%[                    ]       0  --.-KB/s               \rAER_credit_card_dat 100%[===================>]  71.53K  --.-KB/s    in 0.001s  \n",
            "\n",
            "2022-10-01 12:07:40 (51.4 MB/s) - ‘AER_credit_card_data.csv’ saved [73250/73250]\n",
            "\n"
          ]
        }
      ]
    },
    {
      "cell_type": "markdown",
      "source": [
        "# Preparation"
      ],
      "metadata": {
        "id": "vF4LC3ubMgWR"
      }
    },
    {
      "cell_type": "code",
      "source": [
        "# Saving the table from the 'AER_credit_card_data.csv' \n",
        "data = pd.read_csv('AER_credit_card_data.csv')\n",
        "data"
      ],
      "metadata": {
        "colab": {
          "base_uri": "https://localhost:8080/",
          "height": 419
        },
        "id": "k1Wy3ygkMlLi",
        "outputId": "ef9dae41-2889-46fc-f68d-6a974fb98d50"
      },
      "execution_count": 3,
      "outputs": [
        {
          "output_type": "execute_result",
          "data": {
            "text/plain": [
              "     card  reports       age  income     share  expenditure owner selfemp  \\\n",
              "0     yes        0  37.66667  4.5200  0.033270   124.983300   yes      no   \n",
              "1     yes        0  33.25000  2.4200  0.005217     9.854167    no      no   \n",
              "2     yes        0  33.66667  4.5000  0.004156    15.000000   yes      no   \n",
              "3     yes        0  30.50000  2.5400  0.065214   137.869200    no      no   \n",
              "4     yes        0  32.16667  9.7867  0.067051   546.503300   yes      no   \n",
              "...   ...      ...       ...     ...       ...          ...   ...     ...   \n",
              "1314  yes        0  33.58333  4.5660  0.002146     7.333333   yes      no   \n",
              "1315   no        5  23.91667  3.1920  0.000376     0.000000    no      no   \n",
              "1316  yes        0  40.58333  4.6000  0.026513   101.298300   yes      no   \n",
              "1317  yes        0  32.83333  3.7000  0.008999    26.996670    no     yes   \n",
              "1318  yes        0  48.25000  3.7000  0.111619   344.157500   yes      no   \n",
              "\n",
              "      dependents  months  majorcards  active  \n",
              "0              3      54           1      12  \n",
              "1              3      34           1      13  \n",
              "2              4      58           1       5  \n",
              "3              0      25           1       7  \n",
              "4              2      64           1       5  \n",
              "...          ...     ...         ...     ...  \n",
              "1314           0      94           1      19  \n",
              "1315           3      12           1       5  \n",
              "1316           2       1           1       2  \n",
              "1317           0      60           1       7  \n",
              "1318           2       2           1       0  \n",
              "\n",
              "[1319 rows x 12 columns]"
            ],
            "text/html": [
              "\n",
              "  <div id=\"df-a340bde5-2530-4de5-9e4e-ee3e7ff0aade\">\n",
              "    <div class=\"colab-df-container\">\n",
              "      <div>\n",
              "<style scoped>\n",
              "    .dataframe tbody tr th:only-of-type {\n",
              "        vertical-align: middle;\n",
              "    }\n",
              "\n",
              "    .dataframe tbody tr th {\n",
              "        vertical-align: top;\n",
              "    }\n",
              "\n",
              "    .dataframe thead th {\n",
              "        text-align: right;\n",
              "    }\n",
              "</style>\n",
              "<table border=\"1\" class=\"dataframe\">\n",
              "  <thead>\n",
              "    <tr style=\"text-align: right;\">\n",
              "      <th></th>\n",
              "      <th>card</th>\n",
              "      <th>reports</th>\n",
              "      <th>age</th>\n",
              "      <th>income</th>\n",
              "      <th>share</th>\n",
              "      <th>expenditure</th>\n",
              "      <th>owner</th>\n",
              "      <th>selfemp</th>\n",
              "      <th>dependents</th>\n",
              "      <th>months</th>\n",
              "      <th>majorcards</th>\n",
              "      <th>active</th>\n",
              "    </tr>\n",
              "  </thead>\n",
              "  <tbody>\n",
              "    <tr>\n",
              "      <th>0</th>\n",
              "      <td>yes</td>\n",
              "      <td>0</td>\n",
              "      <td>37.66667</td>\n",
              "      <td>4.5200</td>\n",
              "      <td>0.033270</td>\n",
              "      <td>124.983300</td>\n",
              "      <td>yes</td>\n",
              "      <td>no</td>\n",
              "      <td>3</td>\n",
              "      <td>54</td>\n",
              "      <td>1</td>\n",
              "      <td>12</td>\n",
              "    </tr>\n",
              "    <tr>\n",
              "      <th>1</th>\n",
              "      <td>yes</td>\n",
              "      <td>0</td>\n",
              "      <td>33.25000</td>\n",
              "      <td>2.4200</td>\n",
              "      <td>0.005217</td>\n",
              "      <td>9.854167</td>\n",
              "      <td>no</td>\n",
              "      <td>no</td>\n",
              "      <td>3</td>\n",
              "      <td>34</td>\n",
              "      <td>1</td>\n",
              "      <td>13</td>\n",
              "    </tr>\n",
              "    <tr>\n",
              "      <th>2</th>\n",
              "      <td>yes</td>\n",
              "      <td>0</td>\n",
              "      <td>33.66667</td>\n",
              "      <td>4.5000</td>\n",
              "      <td>0.004156</td>\n",
              "      <td>15.000000</td>\n",
              "      <td>yes</td>\n",
              "      <td>no</td>\n",
              "      <td>4</td>\n",
              "      <td>58</td>\n",
              "      <td>1</td>\n",
              "      <td>5</td>\n",
              "    </tr>\n",
              "    <tr>\n",
              "      <th>3</th>\n",
              "      <td>yes</td>\n",
              "      <td>0</td>\n",
              "      <td>30.50000</td>\n",
              "      <td>2.5400</td>\n",
              "      <td>0.065214</td>\n",
              "      <td>137.869200</td>\n",
              "      <td>no</td>\n",
              "      <td>no</td>\n",
              "      <td>0</td>\n",
              "      <td>25</td>\n",
              "      <td>1</td>\n",
              "      <td>7</td>\n",
              "    </tr>\n",
              "    <tr>\n",
              "      <th>4</th>\n",
              "      <td>yes</td>\n",
              "      <td>0</td>\n",
              "      <td>32.16667</td>\n",
              "      <td>9.7867</td>\n",
              "      <td>0.067051</td>\n",
              "      <td>546.503300</td>\n",
              "      <td>yes</td>\n",
              "      <td>no</td>\n",
              "      <td>2</td>\n",
              "      <td>64</td>\n",
              "      <td>1</td>\n",
              "      <td>5</td>\n",
              "    </tr>\n",
              "    <tr>\n",
              "      <th>...</th>\n",
              "      <td>...</td>\n",
              "      <td>...</td>\n",
              "      <td>...</td>\n",
              "      <td>...</td>\n",
              "      <td>...</td>\n",
              "      <td>...</td>\n",
              "      <td>...</td>\n",
              "      <td>...</td>\n",
              "      <td>...</td>\n",
              "      <td>...</td>\n",
              "      <td>...</td>\n",
              "      <td>...</td>\n",
              "    </tr>\n",
              "    <tr>\n",
              "      <th>1314</th>\n",
              "      <td>yes</td>\n",
              "      <td>0</td>\n",
              "      <td>33.58333</td>\n",
              "      <td>4.5660</td>\n",
              "      <td>0.002146</td>\n",
              "      <td>7.333333</td>\n",
              "      <td>yes</td>\n",
              "      <td>no</td>\n",
              "      <td>0</td>\n",
              "      <td>94</td>\n",
              "      <td>1</td>\n",
              "      <td>19</td>\n",
              "    </tr>\n",
              "    <tr>\n",
              "      <th>1315</th>\n",
              "      <td>no</td>\n",
              "      <td>5</td>\n",
              "      <td>23.91667</td>\n",
              "      <td>3.1920</td>\n",
              "      <td>0.000376</td>\n",
              "      <td>0.000000</td>\n",
              "      <td>no</td>\n",
              "      <td>no</td>\n",
              "      <td>3</td>\n",
              "      <td>12</td>\n",
              "      <td>1</td>\n",
              "      <td>5</td>\n",
              "    </tr>\n",
              "    <tr>\n",
              "      <th>1316</th>\n",
              "      <td>yes</td>\n",
              "      <td>0</td>\n",
              "      <td>40.58333</td>\n",
              "      <td>4.6000</td>\n",
              "      <td>0.026513</td>\n",
              "      <td>101.298300</td>\n",
              "      <td>yes</td>\n",
              "      <td>no</td>\n",
              "      <td>2</td>\n",
              "      <td>1</td>\n",
              "      <td>1</td>\n",
              "      <td>2</td>\n",
              "    </tr>\n",
              "    <tr>\n",
              "      <th>1317</th>\n",
              "      <td>yes</td>\n",
              "      <td>0</td>\n",
              "      <td>32.83333</td>\n",
              "      <td>3.7000</td>\n",
              "      <td>0.008999</td>\n",
              "      <td>26.996670</td>\n",
              "      <td>no</td>\n",
              "      <td>yes</td>\n",
              "      <td>0</td>\n",
              "      <td>60</td>\n",
              "      <td>1</td>\n",
              "      <td>7</td>\n",
              "    </tr>\n",
              "    <tr>\n",
              "      <th>1318</th>\n",
              "      <td>yes</td>\n",
              "      <td>0</td>\n",
              "      <td>48.25000</td>\n",
              "      <td>3.7000</td>\n",
              "      <td>0.111619</td>\n",
              "      <td>344.157500</td>\n",
              "      <td>yes</td>\n",
              "      <td>no</td>\n",
              "      <td>2</td>\n",
              "      <td>2</td>\n",
              "      <td>1</td>\n",
              "      <td>0</td>\n",
              "    </tr>\n",
              "  </tbody>\n",
              "</table>\n",
              "<p>1319 rows × 12 columns</p>\n",
              "</div>\n",
              "      <button class=\"colab-df-convert\" onclick=\"convertToInteractive('df-a340bde5-2530-4de5-9e4e-ee3e7ff0aade')\"\n",
              "              title=\"Convert this dataframe to an interactive table.\"\n",
              "              style=\"display:none;\">\n",
              "        \n",
              "  <svg xmlns=\"http://www.w3.org/2000/svg\" height=\"24px\"viewBox=\"0 0 24 24\"\n",
              "       width=\"24px\">\n",
              "    <path d=\"M0 0h24v24H0V0z\" fill=\"none\"/>\n",
              "    <path d=\"M18.56 5.44l.94 2.06.94-2.06 2.06-.94-2.06-.94-.94-2.06-.94 2.06-2.06.94zm-11 1L8.5 8.5l.94-2.06 2.06-.94-2.06-.94L8.5 2.5l-.94 2.06-2.06.94zm10 10l.94 2.06.94-2.06 2.06-.94-2.06-.94-.94-2.06-.94 2.06-2.06.94z\"/><path d=\"M17.41 7.96l-1.37-1.37c-.4-.4-.92-.59-1.43-.59-.52 0-1.04.2-1.43.59L10.3 9.45l-7.72 7.72c-.78.78-.78 2.05 0 2.83L4 21.41c.39.39.9.59 1.41.59.51 0 1.02-.2 1.41-.59l7.78-7.78 2.81-2.81c.8-.78.8-2.07 0-2.86zM5.41 20L4 18.59l7.72-7.72 1.47 1.35L5.41 20z\"/>\n",
              "  </svg>\n",
              "      </button>\n",
              "      \n",
              "  <style>\n",
              "    .colab-df-container {\n",
              "      display:flex;\n",
              "      flex-wrap:wrap;\n",
              "      gap: 12px;\n",
              "    }\n",
              "\n",
              "    .colab-df-convert {\n",
              "      background-color: #E8F0FE;\n",
              "      border: none;\n",
              "      border-radius: 50%;\n",
              "      cursor: pointer;\n",
              "      display: none;\n",
              "      fill: #1967D2;\n",
              "      height: 32px;\n",
              "      padding: 0 0 0 0;\n",
              "      width: 32px;\n",
              "    }\n",
              "\n",
              "    .colab-df-convert:hover {\n",
              "      background-color: #E2EBFA;\n",
              "      box-shadow: 0px 1px 2px rgba(60, 64, 67, 0.3), 0px 1px 3px 1px rgba(60, 64, 67, 0.15);\n",
              "      fill: #174EA6;\n",
              "    }\n",
              "\n",
              "    [theme=dark] .colab-df-convert {\n",
              "      background-color: #3B4455;\n",
              "      fill: #D2E3FC;\n",
              "    }\n",
              "\n",
              "    [theme=dark] .colab-df-convert:hover {\n",
              "      background-color: #434B5C;\n",
              "      box-shadow: 0px 1px 3px 1px rgba(0, 0, 0, 0.15);\n",
              "      filter: drop-shadow(0px 1px 2px rgba(0, 0, 0, 0.3));\n",
              "      fill: #FFFFFF;\n",
              "    }\n",
              "  </style>\n",
              "\n",
              "      <script>\n",
              "        const buttonEl =\n",
              "          document.querySelector('#df-a340bde5-2530-4de5-9e4e-ee3e7ff0aade button.colab-df-convert');\n",
              "        buttonEl.style.display =\n",
              "          google.colab.kernel.accessAllowed ? 'block' : 'none';\n",
              "\n",
              "        async function convertToInteractive(key) {\n",
              "          const element = document.querySelector('#df-a340bde5-2530-4de5-9e4e-ee3e7ff0aade');\n",
              "          const dataTable =\n",
              "            await google.colab.kernel.invokeFunction('convertToInteractive',\n",
              "                                                     [key], {});\n",
              "          if (!dataTable) return;\n",
              "\n",
              "          const docLinkHtml = 'Like what you see? Visit the ' +\n",
              "            '<a target=\"_blank\" href=https://colab.research.google.com/notebooks/data_table.ipynb>data table notebook</a>'\n",
              "            + ' to learn more about interactive tables.';\n",
              "          element.innerHTML = '';\n",
              "          dataTable['output_type'] = 'display_data';\n",
              "          await google.colab.output.renderOutput(dataTable, element);\n",
              "          const docLink = document.createElement('div');\n",
              "          docLink.innerHTML = docLinkHtml;\n",
              "          element.appendChild(docLink);\n",
              "        }\n",
              "      </script>\n",
              "    </div>\n",
              "  </div>\n",
              "  "
            ]
          },
          "metadata": {},
          "execution_count": 3
        }
      ]
    },
    {
      "cell_type": "code",
      "source": [
        "# Changing the data type like 'yes' or 'no' into 1 and 0.\n",
        "data['card'] = np.where(data['card'] =='yes' , 1 , 0)"
      ],
      "metadata": {
        "id": "5bhhh1EeMneh"
      },
      "execution_count": 4,
      "outputs": []
    },
    {
      "cell_type": "code",
      "source": [
        "# the numerical list contains the heading of each columns that has only numerical values. \n",
        "numerical = ['reports','age', 'income', 'share', 'expenditure', 'dependents', 'months',\n",
        "            'majorcards', 'active']"
      ],
      "metadata": {
        "id": "cvSvpavfMqAe"
      },
      "execution_count": 5,
      "outputs": []
    },
    {
      "cell_type": "code",
      "source": [
        "from sklearn.model_selection import train_test_split \n",
        "# We importing train_test_split from sklearn"
      ],
      "metadata": {
        "id": "KygH8NOSMsPS"
      },
      "execution_count": 6,
      "outputs": []
    },
    {
      "cell_type": "code",
      "source": [
        "data_full_train, data_test = train_test_split(data, test_size=0.2,random_state=1)\n",
        "# We are now spliting the data_test data from original data, only 20%  "
      ],
      "metadata": {
        "id": "afNBZzr-MvHq"
      },
      "execution_count": 7,
      "outputs": []
    },
    {
      "cell_type": "code",
      "source": [
        "data_train, data_validation = train_test_split(data_full_train, test_size=0.25, random_state=1)\n",
        "# We are now spliting the data into data_train and data_validation,the data_validation is only 25% \n",
        "# of the data_full_train "
      ],
      "metadata": {
        "id": "IEcZAuT_MxbT"
      },
      "execution_count": 8,
      "outputs": []
    },
    {
      "cell_type": "code",
      "source": [
        "data_train = data_train.reset_index(drop=True)\n",
        "data_validation = data_validation.reset_index(drop=True)\n",
        "data_test = data_test.reset_index(drop=True)\n",
        "\n",
        "# Here we are reseting the Index of the different data set."
      ],
      "metadata": {
        "id": "y3Yl_da2M3gx"
      },
      "execution_count": 9,
      "outputs": []
    },
    {
      "cell_type": "code",
      "source": [
        "y_train = data_train.card.values\n",
        "y_validation = data_validation.card.values\n",
        "y_test = data_test.card.values\n",
        "\n",
        "# Here we are creating the y variables, for the trainings set, the validation set and test set."
      ],
      "metadata": {
        "id": "n6JI5zBNM6Se"
      },
      "execution_count": 10,
      "outputs": []
    },
    {
      "cell_type": "code",
      "source": [
        "del data_train['card']\n",
        "del data_validation['card']\n",
        "del data_test['card']\n",
        "\n",
        "# Delete the median_house_value variable from the data_train, data_validation, data_test"
      ],
      "metadata": {
        "id": "SaZPefoBM8PZ"
      },
      "execution_count": 11,
      "outputs": []
    },
    {
      "cell_type": "markdown",
      "source": [
        "# Question 1"
      ],
      "metadata": {
        "id": "Ws8ltNVtNAUz"
      }
    },
    {
      "cell_type": "code",
      "source": [
        "# Importing libraries from the sklearn.metric so that we can use the roc_auc_score and roc_curve\n",
        "from sklearn.metrics import roc_auc_score\n",
        "from sklearn.metrics import roc_curve"
      ],
      "metadata": {
        "id": "49uVsOS0NFDW"
      },
      "execution_count": 12,
      "outputs": []
    },
    {
      "cell_type": "code",
      "source": [
        "roc_auc_score(y_train, data_train.reports)"
      ],
      "metadata": {
        "colab": {
          "base_uri": "https://localhost:8080/"
        },
        "id": "zAB2jT3bNHSv",
        "outputId": "a7f996b6-6eaa-48dc-f170-ad6f3f8cfaaa"
      },
      "execution_count": 13,
      "outputs": [
        {
          "output_type": "execute_result",
          "data": {
            "text/plain": [
              "0.28333701393106236"
            ]
          },
          "metadata": {},
          "execution_count": 13
        }
      ]
    },
    {
      "cell_type": "code",
      "source": [
        "roc_auc_score(y_train, data_train.dependents)"
      ],
      "metadata": {
        "colab": {
          "base_uri": "https://localhost:8080/"
        },
        "id": "dPc-tZoUNJH8",
        "outputId": "b00bf678-8d30-44a5-97f3-e51762e4b478"
      },
      "execution_count": 14,
      "outputs": [
        {
          "output_type": "execute_result",
          "data": {
            "text/plain": [
              "0.46722427722262094"
            ]
          },
          "metadata": {},
          "execution_count": 14
        }
      ]
    },
    {
      "cell_type": "code",
      "source": [
        "roc_auc_score(y_train, data_train.active)"
      ],
      "metadata": {
        "colab": {
          "base_uri": "https://localhost:8080/"
        },
        "id": "nI2YA7M3NLK5",
        "outputId": "aea945e1-80a8-4a40-dcf7-cba93d655dc0"
      },
      "execution_count": 15,
      "outputs": [
        {
          "output_type": "execute_result",
          "data": {
            "text/plain": [
              "0.6043173411362006"
            ]
          },
          "metadata": {},
          "execution_count": 15
        }
      ]
    },
    {
      "cell_type": "code",
      "source": [
        "roc_auc_score(y_train, data_train.share)"
      ],
      "metadata": {
        "colab": {
          "base_uri": "https://localhost:8080/"
        },
        "id": "vhOd9z6ENMz3",
        "outputId": "78c269bb-9271-4bc9-d658-3bf37461149a"
      },
      "execution_count": 16,
      "outputs": [
        {
          "output_type": "execute_result",
          "data": {
            "text/plain": [
              "0.989183643423692"
            ]
          },
          "metadata": {},
          "execution_count": 16
        }
      ]
    },
    {
      "cell_type": "code",
      "source": [
        "fpr, tpr, _ = roc_curve(y_train, data_train.reports)"
      ],
      "metadata": {
        "id": "062IMzpmNPAC"
      },
      "execution_count": 17,
      "outputs": []
    },
    {
      "cell_type": "code",
      "source": [
        "plt.figure(figsize=(5,5))\n",
        "plt.plot(fpr,tpr)"
      ],
      "metadata": {
        "colab": {
          "base_uri": "https://localhost:8080/",
          "height": 337
        },
        "id": "6xMZaqRcNRBx",
        "outputId": "cc00badc-a189-42ad-94b7-64ca21fb19bc"
      },
      "execution_count": 18,
      "outputs": [
        {
          "output_type": "execute_result",
          "data": {
            "text/plain": [
              "[<matplotlib.lines.Line2D at 0x7f79c1734290>]"
            ]
          },
          "metadata": {},
          "execution_count": 18
        },
        {
          "output_type": "display_data",
          "data": {
            "text/plain": [
              "<Figure size 360x360 with 1 Axes>"
            ],
            "image/png": "[encoded data removed]"
          },
          "metadata": {
            "needs_background": "light"
          }
        }
      ]
    },
    {
      "cell_type": "code",
      "source": [
        "# Printing out the values with auc values higher than 5.\n",
        "for c in numerical:\n",
        "    auc = roc_auc_score(y_train, data_train[c]) \n",
        "    if auc>0.5:\n",
        "        print(c, auc)"
      ],
      "metadata": {
        "colab": {
          "base_uri": "https://localhost:8080/"
        },
        "id": "HrMZ41nYNSyL",
        "outputId": "5311db0a-b1ed-4e83-887c-e9cd8e399449"
      },
      "execution_count": 19,
      "outputs": [
        {
          "output_type": "stream",
          "name": "stdout",
          "text": [
            "income 0.5908049467233478\n",
            "share 0.989183643423692\n",
            "expenditure 0.991042345276873\n",
            "majorcards 0.5343859842838476\n",
            "active 0.6043173411362006\n"
          ]
        }
      ]
    },
    {
      "cell_type": "markdown",
      "source": [
        "The answer to the question is share has the highest AUC."
      ],
      "metadata": {
        "id": "oEuQVXOpNVIu"
      }
    },
    {
      "cell_type": "markdown",
      "source": [
        "# Training Model"
      ],
      "metadata": {
        "id": "3A5N-18uNbLC"
      }
    },
    {
      "cell_type": "code",
      "source": [
        "# Created a list containing the heading of the columns from the imported \n",
        "features = [\"reports\", \"age\", \"income\", \"share\", \"expenditure\", \"dependents\", \"months\", \n",
        "            \"majorcards\", \"active\", \"owner\", \"selfemp\"]"
      ],
      "metadata": {
        "id": "IMhD5E5vNdvO"
      },
      "execution_count": 20,
      "outputs": []
    },
    {
      "cell_type": "code",
      "source": [
        "# Importing the DictVectorizer from sklearn.feature_extraction \n",
        "from sklearn.feature_extraction import DictVectorizer"
      ],
      "metadata": {
        "id": "RPLmkFmwNgoV"
      },
      "execution_count": 21,
      "outputs": []
    },
    {
      "cell_type": "code",
      "source": [
        "# training the data training list that has the \"features list\"\n",
        "train_dict = data_train[features].to_dict(orient='records') "
      ],
      "metadata": {
        "id": "9mGLHdygNilD"
      },
      "execution_count": 22,
      "outputs": []
    },
    {
      "cell_type": "code",
      "source": [
        "# saving the DictVectorizer into variable dv and saving fit transform of the train_dict into X_train.\n",
        "dv = DictVectorizer(sparse=False)\n",
        "X_train = dv.fit_transform(train_dict) "
      ],
      "metadata": {
        "id": "1tNR_6M2Nkfc"
      },
      "execution_count": 23,
      "outputs": []
    },
    {
      "cell_type": "code",
      "source": [
        "from sklearn.linear_model import LogisticRegression "
      ],
      "metadata": {
        "id": "RyFQBfVNNmvn"
      },
      "execution_count": 24,
      "outputs": []
    },
    {
      "cell_type": "code",
      "source": [
        "\n",
        "model = LogisticRegression(solver='liblinear', C=1.0, max_iter=1000)\n",
        "model.fit(X_train, y_train)"
      ],
      "metadata": {
        "colab": {
          "base_uri": "https://localhost:8080/"
        },
        "id": "qUqpL000NorM",
        "outputId": "60227f60-b754-48a2-b6d8-e0e194416fd7"
      },
      "execution_count": 25,
      "outputs": [
        {
          "output_type": "execute_result",
          "data": {
            "text/plain": [
              "LogisticRegression(max_iter=1000, solver='liblinear')"
            ]
          },
          "metadata": {},
          "execution_count": 25
        }
      ]
    },
    {
      "cell_type": "code",
      "source": [
        "\n",
        "val_dict = data_validation[features].to_dict(orient='records')"
      ],
      "metadata": {
        "id": "t-I1NSe_NqfH"
      },
      "execution_count": 26,
      "outputs": []
    },
    {
      "cell_type": "code",
      "source": [
        "X_val = dv.transform(val_dict)"
      ],
      "metadata": {
        "id": "UzVfGrE2NsSf"
      },
      "execution_count": 27,
      "outputs": []
    },
    {
      "cell_type": "code",
      "source": [
        "y_pred = model.predict_proba(X_val)[:,1]"
      ],
      "metadata": {
        "id": "SxGUd8yYNuAb"
      },
      "execution_count": 28,
      "outputs": []
    },
    {
      "cell_type": "code",
      "source": [
        "roc_auc_score(y_validation, y_pred)"
      ],
      "metadata": {
        "colab": {
          "base_uri": "https://localhost:8080/"
        },
        "id": "P93mPc0dNwTv",
        "outputId": "aa7d378a-afc5-44a4-def2-941934984184"
      },
      "execution_count": 29,
      "outputs": [
        {
          "output_type": "execute_result",
          "data": {
            "text/plain": [
              "0.995171242063847"
            ]
          },
          "metadata": {},
          "execution_count": 29
        }
      ]
    },
    {
      "cell_type": "code",
      "source": [
        "y_pred_bin = model.predict(X_val)"
      ],
      "metadata": {
        "id": "omOCl7NcN0Y_"
      },
      "execution_count": 30,
      "outputs": []
    },
    {
      "cell_type": "code",
      "source": [
        "roc_auc_score(y_validation, y_pred_bin)"
      ],
      "metadata": {
        "colab": {
          "base_uri": "https://localhost:8080/"
        },
        "id": "L3yrE9HLN3KY",
        "outputId": "3b3c6ba0-8e3e-466d-e25f-7d06406e1c61"
      },
      "execution_count": 31,
      "outputs": [
        {
          "output_type": "execute_result",
          "data": {
            "text/plain": [
              "0.9739783600107306"
            ]
          },
          "metadata": {},
          "execution_count": 31
        }
      ]
    },
    {
      "cell_type": "code",
      "source": [
        "# plt.figure(figsize=(5,5))\n",
        "\n",
        "# fpr, tpr, _ = roc_curve(y_train, y_pred)\n",
        "# plt.plot(fpr, tpr)\n",
        "\n",
        "# fpr, tpr, _ = roc_curve(y_validation, y_pred_bin)\n",
        "# plt.plot(fpr, tpr)"
      ],
      "metadata": {
        "id": "dOc4nz-yN5Ju"
      },
      "execution_count": 32,
      "outputs": []
    },
    {
      "cell_type": "markdown",
      "source": [
        "# Question 2"
      ],
      "metadata": {
        "id": "ZoKZd5iYODEy"
      }
    },
    {
      "cell_type": "code",
      "source": [
        "# Created a function for the confusion matrix. \n",
        "def confusion_matrix_dataframe(y_val, y_pred):\n",
        "    score=[]\n",
        "    \n",
        "    thresholds = np.linspace(0, 1, 101)\n",
        "    \n",
        "    for t in thresholds:\n",
        "        actual_positive = (y_validation ==1)\n",
        "        actual_negative = (y_validation ==0)\n",
        "        \n",
        "        predict_positive = (y_pred >= t)\n",
        "        predict_negative = (y_pred < t)\n",
        "        \n",
        "        tp = (predict_positive & actual_positive).sum()\n",
        "        tn = (predict_negative & actual_negative).sum()\n",
        "        \n",
        "        fp = (predict_positive & actual_positive).sum()\n",
        "        fn = (predict_negative & actual_negative).sum()\n",
        "        \n",
        "        score.append((t, tp, fp, fn, tn))\n",
        "    columns = ['thresholds', 'tp', 'fn', 'tn', 'fp']\n",
        "    data_score = pd.DataFrame(score, columns=columns)\n",
        "    \n",
        "    return data_score"
      ],
      "metadata": {
        "id": "nilZxbuGOFtf"
      },
      "execution_count": 33,
      "outputs": []
    },
    {
      "cell_type": "code",
      "source": [
        "# using confusion matrix into y_validation and y_pred into data_score\n",
        "data_score = confusion_matrix_dataframe(y_validation, y_pred)"
      ],
      "metadata": {
        "id": "FO2S9XvEOIXT"
      },
      "execution_count": 34,
      "outputs": []
    },
    {
      "cell_type": "code",
      "source": [
        "data_score[::10]"
      ],
      "metadata": {
        "colab": {
          "base_uri": "https://localhost:8080/",
          "height": 390
        },
        "id": "7ZXXAM0iOKkz",
        "outputId": "391aaf13-1bd0-4131-a349-f7e5c99c2823"
      },
      "execution_count": 35,
      "outputs": [
        {
          "output_type": "execute_result",
          "data": {
            "text/plain": [
              "     thresholds   tp   fn  tn  fp\n",
              "0           0.0  211  211   0   0\n",
              "10          0.1  210  210  36  36\n",
              "20          0.2  207  207  48  48\n",
              "30          0.3  205  205  48  48\n",
              "40          0.4  205  205  52  52\n",
              "50          0.5  204  204  52  52\n",
              "60          0.6  204  204  52  52\n",
              "70          0.7  204  204  52  52\n",
              "80          0.8  204  204  52  52\n",
              "90          0.9  204  204  53  53\n",
              "100         1.0  179  179  53  53"
            ],
            "text/html": [
              "\n",
              "  <div id=\"df-999985bb-f20d-477d-9c1b-abeaeda0789d\">\n",
              "    <div class=\"colab-df-container\">\n",
              "      <div>\n",
              "<style scoped>\n",
              "    .dataframe tbody tr th:only-of-type {\n",
              "        vertical-align: middle;\n",
              "    }\n",
              "\n",
              "    .dataframe tbody tr th {\n",
              "        vertical-align: top;\n",
              "    }\n",
              "\n",
              "    .dataframe thead th {\n",
              "        text-align: right;\n",
              "    }\n",
              "</style>\n",
              "<table border=\"1\" class=\"dataframe\">\n",
              "  <thead>\n",
              "    <tr style=\"text-align: right;\">\n",
              "      <th></th>\n",
              "      <th>thresholds</th>\n",
              "      <th>tp</th>\n",
              "      <th>fn</th>\n",
              "      <th>tn</th>\n",
              "      <th>fp</th>\n",
              "    </tr>\n",
              "  </thead>\n",
              "  <tbody>\n",
              "    <tr>\n",
              "      <th>0</th>\n",
              "      <td>0.0</td>\n",
              "      <td>211</td>\n",
              "      <td>211</td>\n",
              "      <td>0</td>\n",
              "      <td>0</td>\n",
              "    </tr>\n",
              "    <tr>\n",
              "      <th>10</th>\n",
              "      <td>0.1</td>\n",
              "      <td>210</td>\n",
              "      <td>210</td>\n",
              "      <td>36</td>\n",
              "      <td>36</td>\n",
              "    </tr>\n",
              "    <tr>\n",
              "      <th>20</th>\n",
              "      <td>0.2</td>\n",
              "      <td>207</td>\n",
              "      <td>207</td>\n",
              "      <td>48</td>\n",
              "      <td>48</td>\n",
              "    </tr>\n",
              "    <tr>\n",
              "      <th>30</th>\n",
              "      <td>0.3</td>\n",
              "      <td>205</td>\n",
              "      <td>205</td>\n",
              "      <td>48</td>\n",
              "      <td>48</td>\n",
              "    </tr>\n",
              "    <tr>\n",
              "      <th>40</th>\n",
              "      <td>0.4</td>\n",
              "      <td>205</td>\n",
              "      <td>205</td>\n",
              "      <td>52</td>\n",
              "      <td>52</td>\n",
              "    </tr>\n",
              "    <tr>\n",
              "      <th>50</th>\n",
              "      <td>0.5</td>\n",
              "      <td>204</td>\n",
              "      <td>204</td>\n",
              "      <td>52</td>\n",
              "      <td>52</td>\n",
              "    </tr>\n",
              "    <tr>\n",
              "      <th>60</th>\n",
              "      <td>0.6</td>\n",
              "      <td>204</td>\n",
              "      <td>204</td>\n",
              "      <td>52</td>\n",
              "      <td>52</td>\n",
              "    </tr>\n",
              "    <tr>\n",
              "      <th>70</th>\n",
              "      <td>0.7</td>\n",
              "      <td>204</td>\n",
              "      <td>204</td>\n",
              "      <td>52</td>\n",
              "      <td>52</td>\n",
              "    </tr>\n",
              "    <tr>\n",
              "      <th>80</th>\n",
              "      <td>0.8</td>\n",
              "      <td>204</td>\n",
              "      <td>204</td>\n",
              "      <td>52</td>\n",
              "      <td>52</td>\n",
              "    </tr>\n",
              "    <tr>\n",
              "      <th>90</th>\n",
              "      <td>0.9</td>\n",
              "      <td>204</td>\n",
              "      <td>204</td>\n",
              "      <td>53</td>\n",
              "      <td>53</td>\n",
              "    </tr>\n",
              "    <tr>\n",
              "      <th>100</th>\n",
              "      <td>1.0</td>\n",
              "      <td>179</td>\n",
              "      <td>179</td>\n",
              "      <td>53</td>\n",
              "      <td>53</td>\n",
              "    </tr>\n",
              "  </tbody>\n",
              "</table>\n",
              "</div>\n",
              "      <button class=\"colab-df-convert\" onclick=\"convertToInteractive('df-999985bb-f20d-477d-9c1b-abeaeda0789d')\"\n",
              "              title=\"Convert this dataframe to an interactive table.\"\n",
              "              style=\"display:none;\">\n",
              "        \n",
              "  <svg xmlns=\"http://www.w3.org/2000/svg\" height=\"24px\"viewBox=\"0 0 24 24\"\n",
              "       width=\"24px\">\n",
              "    <path d=\"M0 0h24v24H0V0z\" fill=\"none\"/>\n",
              "    <path d=\"M18.56 5.44l.94 2.06.94-2.06 2.06-.94-2.06-.94-.94-2.06-.94 2.06-2.06.94zm-11 1L8.5 8.5l.94-2.06 2.06-.94-2.06-.94L8.5 2.5l-.94 2.06-2.06.94zm10 10l.94 2.06.94-2.06 2.06-.94-2.06-.94-.94-2.06-.94 2.06-2.06.94z\"/><path d=\"M17.41 7.96l-1.37-1.37c-.4-.4-.92-.59-1.43-.59-.52 0-1.04.2-1.43.59L10.3 9.45l-7.72 7.72c-.78.78-.78 2.05 0 2.83L4 21.41c.39.39.9.59 1.41.59.51 0 1.02-.2 1.41-.59l7.78-7.78 2.81-2.81c.8-.78.8-2.07 0-2.86zM5.41 20L4 18.59l7.72-7.72 1.47 1.35L5.41 20z\"/>\n",
              "  </svg>\n",
              "      </button>\n",
              "      \n",
              "  <style>\n",
              "    .colab-df-container {\n",
              "      display:flex;\n",
              "      flex-wrap:wrap;\n",
              "      gap: 12px;\n",
              "    }\n",
              "\n",
              "    .colab-df-convert {\n",
              "      background-color: #E8F0FE;\n",
              "      border: none;\n",
              "      border-radius: 50%;\n",
              "      cursor: pointer;\n",
              "      display: none;\n",
              "      fill: #1967D2;\n",
              "      height: 32px;\n",
              "      padding: 0 0 0 0;\n",
              "      width: 32px;\n",
              "    }\n",
              "\n",
              "    .colab-df-convert:hover {\n",
              "      background-color: #E2EBFA;\n",
              "      box-shadow: 0px 1px 2px rgba(60, 64, 67, 0.3), 0px 1px 3px 1px rgba(60, 64, 67, 0.15);\n",
              "      fill: #174EA6;\n",
              "    }\n",
              "\n",
              "    [theme=dark] .colab-df-convert {\n",
              "      background-color: #3B4455;\n",
              "      fill: #D2E3FC;\n",
              "    }\n",
              "\n",
              "    [theme=dark] .colab-df-convert:hover {\n",
              "      background-color: #434B5C;\n",
              "      box-shadow: 0px 1px 3px 1px rgba(0, 0, 0, 0.15);\n",
              "      filter: drop-shadow(0px 1px 2px rgba(0, 0, 0, 0.3));\n",
              "      fill: #FFFFFF;\n",
              "    }\n",
              "  </style>\n",
              "\n",
              "      <script>\n",
              "        const buttonEl =\n",
              "          document.querySelector('#df-999985bb-f20d-477d-9c1b-abeaeda0789d button.colab-df-convert');\n",
              "        buttonEl.style.display =\n",
              "          google.colab.kernel.accessAllowed ? 'block' : 'none';\n",
              "\n",
              "        async function convertToInteractive(key) {\n",
              "          const element = document.querySelector('#df-999985bb-f20d-477d-9c1b-abeaeda0789d');\n",
              "          const dataTable =\n",
              "            await google.colab.kernel.invokeFunction('convertToInteractive',\n",
              "                                                     [key], {});\n",
              "          if (!dataTable) return;\n",
              "\n",
              "          const docLinkHtml = 'Like what you see? Visit the ' +\n",
              "            '<a target=\"_blank\" href=https://colab.research.google.com/notebooks/data_table.ipynb>data table notebook</a>'\n",
              "            + ' to learn more about interactive tables.';\n",
              "          element.innerHTML = '';\n",
              "          dataTable['output_type'] = 'display_data';\n",
              "          await google.colab.output.renderOutput(dataTable, element);\n",
              "          const docLink = document.createElement('div');\n",
              "          docLink.innerHTML = docLinkHtml;\n",
              "          element.appendChild(docLink);\n",
              "        }\n",
              "      </script>\n",
              "    </div>\n",
              "  </div>\n",
              "  "
            ]
          },
          "metadata": {},
          "execution_count": 35
        }
      ]
    },
    {
      "cell_type": "code",
      "source": [
        "data_score['p'] = data_score.tp / (data_score.tp + data_score.fp)\n",
        "data_score['r'] = data_score.tp / (data_score.tp + data_score.fn) #tn instead of fn"
      ],
      "metadata": {
        "id": "PYAg2sBKOMmT"
      },
      "execution_count": 36,
      "outputs": []
    },
    {
      "cell_type": "code",
      "source": [
        "data_score[::10]"
      ],
      "metadata": {
        "colab": {
          "base_uri": "https://localhost:8080/",
          "height": 390
        },
        "id": "G34EZ0jbOOjN",
        "outputId": "36010e46-8f4e-4062-c39d-1f9db59e9398"
      },
      "execution_count": 37,
      "outputs": [
        {
          "output_type": "execute_result",
          "data": {
            "text/plain": [
              "     thresholds   tp   fn  tn  fp         p    r\n",
              "0           0.0  211  211   0   0  1.000000  0.5\n",
              "10          0.1  210  210  36  36  0.853659  0.5\n",
              "20          0.2  207  207  48  48  0.811765  0.5\n",
              "30          0.3  205  205  48  48  0.810277  0.5\n",
              "40          0.4  205  205  52  52  0.797665  0.5\n",
              "50          0.5  204  204  52  52  0.796875  0.5\n",
              "60          0.6  204  204  52  52  0.796875  0.5\n",
              "70          0.7  204  204  52  52  0.796875  0.5\n",
              "80          0.8  204  204  52  52  0.796875  0.5\n",
              "90          0.9  204  204  53  53  0.793774  0.5\n",
              "100         1.0  179  179  53  53  0.771552  0.5"
            ],
            "text/html": [
              "\n",
              "  <div id=\"df-9f6fafde-1d23-410a-aa0d-ea4af1bea3d7\">\n",
              "    <div class=\"colab-df-container\">\n",
              "      <div>\n",
              "<style scoped>\n",
              "    .dataframe tbody tr th:only-of-type {\n",
              "        vertical-align: middle;\n",
              "    }\n",
              "\n",
              "    .dataframe tbody tr th {\n",
              "        vertical-align: top;\n",
              "    }\n",
              "\n",
              "    .dataframe thead th {\n",
              "        text-align: right;\n",
              "    }\n",
              "</style>\n",
              "<table border=\"1\" class=\"dataframe\">\n",
              "  <thead>\n",
              "    <tr style=\"text-align: right;\">\n",
              "      <th></th>\n",
              "      <th>thresholds</th>\n",
              "      <th>tp</th>\n",
              "      <th>fn</th>\n",
              "      <th>tn</th>\n",
              "      <th>fp</th>\n",
              "      <th>p</th>\n",
              "      <th>r</th>\n",
              "    </tr>\n",
              "  </thead>\n",
              "  <tbody>\n",
              "    <tr>\n",
              "      <th>0</th>\n",
              "      <td>0.0</td>\n",
              "      <td>211</td>\n",
              "      <td>211</td>\n",
              "      <td>0</td>\n",
              "      <td>0</td>\n",
              "      <td>1.000000</td>\n",
              "      <td>0.5</td>\n",
              "    </tr>\n",
              "    <tr>\n",
              "      <th>10</th>\n",
              "      <td>0.1</td>\n",
              "      <td>210</td>\n",
              "      <td>210</td>\n",
              "      <td>36</td>\n",
              "      <td>36</td>\n",
              "      <td>0.853659</td>\n",
              "      <td>0.5</td>\n",
              "    </tr>\n",
              "    <tr>\n",
              "      <th>20</th>\n",
              "      <td>0.2</td>\n",
              "      <td>207</td>\n",
              "      <td>207</td>\n",
              "      <td>48</td>\n",
              "      <td>48</td>\n",
              "      <td>0.811765</td>\n",
              "      <td>0.5</td>\n",
              "    </tr>\n",
              "    <tr>\n",
              "      <th>30</th>\n",
              "      <td>0.3</td>\n",
              "      <td>205</td>\n",
              "      <td>205</td>\n",
              "      <td>48</td>\n",
              "      <td>48</td>\n",
              "      <td>0.810277</td>\n",
              "      <td>0.5</td>\n",
              "    </tr>\n",
              "    <tr>\n",
              "      <th>40</th>\n",
              "      <td>0.4</td>\n",
              "      <td>205</td>\n",
              "      <td>205</td>\n",
              "      <td>52</td>\n",
              "      <td>52</td>\n",
              "      <td>0.797665</td>\n",
              "      <td>0.5</td>\n",
              "    </tr>\n",
              "    <tr>\n",
              "      <th>50</th>\n",
              "      <td>0.5</td>\n",
              "      <td>204</td>\n",
              "      <td>204</td>\n",
              "      <td>52</td>\n",
              "      <td>52</td>\n",
              "      <td>0.796875</td>\n",
              "      <td>0.5</td>\n",
              "    </tr>\n",
              "    <tr>\n",
              "      <th>60</th>\n",
              "      <td>0.6</td>\n",
              "      <td>204</td>\n",
              "      <td>204</td>\n",
              "      <td>52</td>\n",
              "      <td>52</td>\n",
              "      <td>0.796875</td>\n",
              "      <td>0.5</td>\n",
              "    </tr>\n",
              "    <tr>\n",
              "      <th>70</th>\n",
              "      <td>0.7</td>\n",
              "      <td>204</td>\n",
              "      <td>204</td>\n",
              "      <td>52</td>\n",
              "      <td>52</td>\n",
              "      <td>0.796875</td>\n",
              "      <td>0.5</td>\n",
              "    </tr>\n",
              "    <tr>\n",
              "      <th>80</th>\n",
              "      <td>0.8</td>\n",
              "      <td>204</td>\n",
              "      <td>204</td>\n",
              "      <td>52</td>\n",
              "      <td>52</td>\n",
              "      <td>0.796875</td>\n",
              "      <td>0.5</td>\n",
              "    </tr>\n",
              "    <tr>\n",
              "      <th>90</th>\n",
              "      <td>0.9</td>\n",
              "      <td>204</td>\n",
              "      <td>204</td>\n",
              "      <td>53</td>\n",
              "      <td>53</td>\n",
              "      <td>0.793774</td>\n",
              "      <td>0.5</td>\n",
              "    </tr>\n",
              "    <tr>\n",
              "      <th>100</th>\n",
              "      <td>1.0</td>\n",
              "      <td>179</td>\n",
              "      <td>179</td>\n",
              "      <td>53</td>\n",
              "      <td>53</td>\n",
              "      <td>0.771552</td>\n",
              "      <td>0.5</td>\n",
              "    </tr>\n",
              "  </tbody>\n",
              "</table>\n",
              "</div>\n",
              "      <button class=\"colab-df-convert\" onclick=\"convertToInteractive('df-9f6fafde-1d23-410a-aa0d-ea4af1bea3d7')\"\n",
              "              title=\"Convert this dataframe to an interactive table.\"\n",
              "              style=\"display:none;\">\n",
              "        \n",
              "  <svg xmlns=\"http://www.w3.org/2000/svg\" height=\"24px\"viewBox=\"0 0 24 24\"\n",
              "       width=\"24px\">\n",
              "    <path d=\"M0 0h24v24H0V0z\" fill=\"none\"/>\n",
              "    <path d=\"M18.56 5.44l.94 2.06.94-2.06 2.06-.94-2.06-.94-.94-2.06-.94 2.06-2.06.94zm-11 1L8.5 8.5l.94-2.06 2.06-.94-2.06-.94L8.5 2.5l-.94 2.06-2.06.94zm10 10l.94 2.06.94-2.06 2.06-.94-2.06-.94-.94-2.06-.94 2.06-2.06.94z\"/><path d=\"M17.41 7.96l-1.37-1.37c-.4-.4-.92-.59-1.43-.59-.52 0-1.04.2-1.43.59L10.3 9.45l-7.72 7.72c-.78.78-.78 2.05 0 2.83L4 21.41c.39.39.9.59 1.41.59.51 0 1.02-.2 1.41-.59l7.78-7.78 2.81-2.81c.8-.78.8-2.07 0-2.86zM5.41 20L4 18.59l7.72-7.72 1.47 1.35L5.41 20z\"/>\n",
              "  </svg>\n",
              "      </button>\n",
              "      \n",
              "  <style>\n",
              "    .colab-df-container {\n",
              "      display:flex;\n",
              "      flex-wrap:wrap;\n",
              "      gap: 12px;\n",
              "    }\n",
              "\n",
              "    .colab-df-convert {\n",
              "      background-color: #E8F0FE;\n",
              "      border: none;\n",
              "      border-radius: 50%;\n",
              "      cursor: pointer;\n",
              "      display: none;\n",
              "      fill: #1967D2;\n",
              "      height: 32px;\n",
              "      padding: 0 0 0 0;\n",
              "      width: 32px;\n",
              "    }\n",
              "\n",
              "    .colab-df-convert:hover {\n",
              "      background-color: #E2EBFA;\n",
              "      box-shadow: 0px 1px 2px rgba(60, 64, 67, 0.3), 0px 1px 3px 1px rgba(60, 64, 67, 0.15);\n",
              "      fill: #174EA6;\n",
              "    }\n",
              "\n",
              "    [theme=dark] .colab-df-convert {\n",
              "      background-color: #3B4455;\n",
              "      fill: #D2E3FC;\n",
              "    }\n",
              "\n",
              "    [theme=dark] .colab-df-convert:hover {\n",
              "      background-color: #434B5C;\n",
              "      box-shadow: 0px 1px 3px 1px rgba(0, 0, 0, 0.15);\n",
              "      filter: drop-shadow(0px 1px 2px rgba(0, 0, 0, 0.3));\n",
              "      fill: #FFFFFF;\n",
              "    }\n",
              "  </style>\n",
              "\n",
              "      <script>\n",
              "        const buttonEl =\n",
              "          document.querySelector('#df-9f6fafde-1d23-410a-aa0d-ea4af1bea3d7 button.colab-df-convert');\n",
              "        buttonEl.style.display =\n",
              "          google.colab.kernel.accessAllowed ? 'block' : 'none';\n",
              "\n",
              "        async function convertToInteractive(key) {\n",
              "          const element = document.querySelector('#df-9f6fafde-1d23-410a-aa0d-ea4af1bea3d7');\n",
              "          const dataTable =\n",
              "            await google.colab.kernel.invokeFunction('convertToInteractive',\n",
              "                                                     [key], {});\n",
              "          if (!dataTable) return;\n",
              "\n",
              "          const docLinkHtml = 'Like what you see? Visit the ' +\n",
              "            '<a target=\"_blank\" href=https://colab.research.google.com/notebooks/data_table.ipynb>data table notebook</a>'\n",
              "            + ' to learn more about interactive tables.';\n",
              "          element.innerHTML = '';\n",
              "          dataTable['output_type'] = 'display_data';\n",
              "          await google.colab.output.renderOutput(dataTable, element);\n",
              "          const docLink = document.createElement('div');\n",
              "          docLink.innerHTML = docLinkHtml;\n",
              "          element.appendChild(docLink);\n",
              "        }\n",
              "      </script>\n",
              "    </div>\n",
              "  </div>\n",
              "  "
            ]
          },
          "metadata": {},
          "execution_count": 37
        }
      ]
    },
    {
      "cell_type": "code",
      "source": [
        "plt.plot(data_score.thresholds, data_score.p)\n",
        "plt.plot(data_score.thresholds, data_score.r)"
      ],
      "metadata": {
        "colab": {
          "base_uri": "https://localhost:8080/",
          "height": 282
        },
        "id": "OQpiDcIiOQXq",
        "outputId": "20ccfa87-f04a-46e8-e38b-5be214b3ea07"
      },
      "execution_count": 38,
      "outputs": [
        {
          "output_type": "execute_result",
          "data": {
            "text/plain": [
              "[<matplotlib.lines.Line2D at 0x7f79c0e06910>]"
            ]
          },
          "metadata": {},
          "execution_count": 38
        },
        {
          "output_type": "display_data",
          "data": {
            "text/plain": [
              "<Figure size 432x288 with 1 Axes>"
            ],
            "image/png": "[encoded data removed]"
          },
          "metadata": {
            "needs_background": "light"
          }
        }
      ]
    },
    {
      "cell_type": "markdown",
      "source": [
        "# Question 3"
      ],
      "metadata": {
        "id": "BTfpNvoCOYmd"
      }
    },
    {
      "cell_type": "markdown",
      "source": [
        "# Question 4"
      ],
      "metadata": {
        "id": "p4ezBIKyObPk"
      }
    },
    {
      "cell_type": "code",
      "source": [
        "data_score['f1'] = 2 * data_score.p * data_score.r / (data_score.p + data_score.r)"
      ],
      "metadata": {
        "id": "i6gaci0COefg"
      },
      "execution_count": 39,
      "outputs": []
    },
    {
      "cell_type": "code",
      "source": [
        "plt.plot(data_score.thresholds, data_score.f1)"
      ],
      "metadata": {
        "colab": {
          "base_uri": "https://localhost:8080/",
          "height": 282
        },
        "id": "TsngZD24Og-W",
        "outputId": "662e21ff-c669-459c-c291-7e719e68e176"
      },
      "execution_count": 40,
      "outputs": [
        {
          "output_type": "execute_result",
          "data": {
            "text/plain": [
              "[<matplotlib.lines.Line2D at 0x7f79c0df3d90>]"
            ]
          },
          "metadata": {},
          "execution_count": 40
        },
        {
          "output_type": "display_data",
          "data": {
            "text/plain": [
              "<Figure size 432x288 with 1 Axes>"
            ],
            "image/png": "[encoded data removed]"
          },
          "metadata": {
            "needs_background": "light"
          }
        }
      ]
    },
    {
      "cell_type": "code",
      "source": [
        "data_score.iloc[data_score.f1.argmax()]"
      ],
      "metadata": {
        "colab": {
          "base_uri": "https://localhost:8080/"
        },
        "id": "TKnHZV6qOkXj",
        "outputId": "560d4798-228a-4c9e-8ed4-ec1d4eb639ae"
      },
      "execution_count": 41,
      "outputs": [
        {
          "output_type": "execute_result",
          "data": {
            "text/plain": [
              "thresholds      0.000000\n",
              "tp            211.000000\n",
              "fn            211.000000\n",
              "tn              0.000000\n",
              "fp              0.000000\n",
              "p               1.000000\n",
              "r               0.500000\n",
              "f1              0.666667\n",
              "Name: 0, dtype: float64"
            ]
          },
          "metadata": {},
          "execution_count": 41
        }
      ]
    },
    {
      "cell_type": "markdown",
      "source": [
        "The answer to the question 4 is the threshold F1 is maximum at 0.66667"
      ],
      "metadata": {
        "id": "6BE5XqIuhs7O"
      }
    },
    {
      "cell_type": "markdown",
      "source": [
        "# Question 5"
      ],
      "metadata": {
        "id": "L-neVlXpOxUl"
      }
    },
    {
      "cell_type": "code",
      "source": [
        "# Created two different function 'train' and the 'predicts'\n",
        "def train(data_train, y_train, C=1.0):\n",
        "    dicts = data_train[features].to_dict(orient='records')\n",
        "    \n",
        "    dv = DictVectorizer(sparse=False)\n",
        "    X_train = dv.fit_transform(dicts)\n",
        "    \n",
        "    model = LogisticRegression(solver='liblinear', C=C, max_iter=1000)\n",
        "    model.fit(X_train, y_train)\n",
        "    \n",
        "    return dv, model\n",
        "\n",
        "def predicts(data, dv, model):\n",
        "    dicts = data[features].to_dict(orient='records')\n",
        "    \n",
        "    X = dv.transform(dicts)\n",
        "    y_pred = model.predict_proba(X)[:,1]\n",
        "    return y_pred"
      ],
      "metadata": {
        "id": "RIa0MeXhOz2d"
      },
      "execution_count": 42,
      "outputs": []
    },
    {
      "cell_type": "code",
      "source": [
        "# Importing the KFold from the sklearn.model_selection\n",
        "from sklearn.model_selection import KFold"
      ],
      "metadata": {
        "id": "S6C5E8-pO183"
      },
      "execution_count": 43,
      "outputs": []
    },
    {
      "cell_type": "code",
      "source": [
        "# Saving the KFold method into the variable 'kfold'\n",
        "kfold = KFold(n_splits=5, shuffle=True, random_state=1)"
      ],
      "metadata": {
        "id": "rD222BQVO3qq"
      },
      "execution_count": 44,
      "outputs": []
    },
    {
      "cell_type": "code",
      "source": [
        "# Created a for loop to traverse through data_full_train and we are going to get our standard deviation.  \n",
        "score = []\n",
        "for train_idx, val_idx in kfold.split(data_full_train):\n",
        "    data_train = data_full_train.iloc[train_idx]\n",
        "    data_validation = data_full_train.iloc[val_idx]\n",
        "    \n",
        "    y_train = data_train.card.values \n",
        "    y_val = data_validation.card.values \n",
        "    \n",
        "    dv, model = train(data_train, y_train, C=1.0)\n",
        "    y_pred = predicts(data_validation, dv, model)\n",
        "    \n",
        "    auc = roc_auc_score(y_val, y_pred)\n",
        "    score.append(auc)\n",
        "    \n",
        "print((np.mean(score)), np.std(score)) #'%.3f +- %.3f' %"
      ],
      "metadata": {
        "colab": {
          "base_uri": "https://localhost:8080/"
        },
        "id": "m80Pm5ZAO5NY",
        "outputId": "fc5778fc-8741-4996-c48f-53fb2a538ff5"
      },
      "execution_count": 45,
      "outputs": [
        {
          "output_type": "stream",
          "name": "stdout",
          "text": [
            "0.9964498276814243 0.0027434713804377724\n"
          ]
        }
      ]
    },
    {
      "cell_type": "markdown",
      "source": [
        "# Question 6"
      ],
      "metadata": {
        "id": "0kGhBq1_PA5Y"
      }
    },
    {
      "cell_type": "code",
      "source": [
        "# kfold = KFold(n_splits=5, shuffle=True, random_state=1)\n",
        "\n",
        "# for C in [0.01, 0.1, 1, 10]:\n",
        "#     score = []\n",
        "#     for train_idx, val_idx in kfold.split(data_full_train):\n",
        "#         data_train = data_full_train.iloc[train_idx]\n",
        "#         data_validation = data_full_train.iloc[val_idx]\n",
        "    \n",
        "#         y_train = data_train.card.values\n",
        "#         y_val = data_train.card.values\n",
        "    \n",
        "#         dv, model = train(data_train, y_train, C=C)\n",
        "#         y_pred = predicts(data_validation, dv, model)\n",
        "    \n",
        "#         auc = roc_auc_score(y_val, y_pred)\n",
        "#         score.append(auc)\n",
        "    \n",
        "#     print('%s: %.3f +- %.3f' % (C, (np.mean(score)), np.std(score)))"
      ],
      "metadata": {
        "id": "RF3TgdIePC_6"
      },
      "execution_count": 46,
      "outputs": []
    }
  ]
}